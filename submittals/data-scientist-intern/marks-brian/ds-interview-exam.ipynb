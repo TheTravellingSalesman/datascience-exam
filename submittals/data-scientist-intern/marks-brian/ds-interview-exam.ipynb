{
 "cells": [
  {
   "cell_type": "markdown",
   "metadata": {},
   "source": [
    "<div class=\"clearfix\" style=\"padding: 10px; padding-left: 0px\">\n",
    "<a href=\"http://bombora.com\"><img src=\"https://app.box.com/shared/static/e0j9v1xjmubit0inthhgv3llwnoansjp.png\" width=\"200px\" class=\"pull-right\" style=\"display: inline-block; margin: 5px; vertical-align: middle;\"></a>\n",
    "<h1> Bombora Data Science: <br> *Interview Exam* </h1>\n",
    "</div>\n",
    "\n",
    "<img width=\"200px\" src=\"https://app.box.com/shared/static/15slg1mvjd1zldbg3xkj9picjkmhzpa5.png\">"
   ]
  },
  {
   "cell_type": "markdown",
   "metadata": {},
   "source": [
    "---\n",
    "# Welcome\n",
    "\n",
    "Welcome! This notebook contains interview exam questions referenced in the *Instructions* section in the `README.md`—please read that first, *before* attempting to answer questions here.\n",
    "\n",
    "<div class=\"alert alert-info\" role=\"alert\" style=\"margin: 10px\">\n",
    "<p style=\"font-weight:bold\">ADVICE</p>\n",
    "<p>*Do not* read these questions, and panic, *before* reading the instructions in `README.md`.</p>\n",
    "</div>\n",
    "\n",
    "<div class=\"alert alert-warning\" role=\"alert\" style=\"margin: 10px\">\n",
    "<p style=\"font-weight:bold\">WARNING</p>\n",
    "\n",
    "<p>If using <a href=\"https://try.jupyter.org\">try.jupyter.org</a> do not rely on the server for anything you want to last - your server will be <span style=\"font-weight:bold\">deleted after 10 minutes of inactivity</span>. Save often and rember download notebook when you step away (you can always re-upload and start again)!</p>\n",
    "</div>\n",
    "\n",
    "\n",
    "## Have fun!\n",
    "\n",
    "Regardless of outcome, getting to know you is important. Give it your best shot and we'll look forward to following up!"
   ]
  },
  {
   "cell_type": "markdown",
   "metadata": {},
   "source": [
    "# Exam Questions"
   ]
  },
  {
   "cell_type": "markdown",
   "metadata": {},
   "source": [
    "## 1. Algo + Data Structures"
   ]
  },
  {
   "cell_type": "markdown",
   "metadata": {},
   "source": [
    "### Q 1.1: Fibionacci\n",
    "![fib image](https://upload.wikimedia.org/wikipedia/commons/thumb/9/93/Fibonacci_spiral_34.svg/200px-Fibonacci_spiral_34.svg.png)"
   ]
  },
  {
   "cell_type": "markdown",
   "metadata": {},
   "source": [
    "#### Q 1.1.1\n",
    "Given $n$ where $n \\in \\mathbb{N}$ (i.e., $n$ is an integer and $n > 0$), write a function `fibonacci(n)` that computes the Fibonacci number $F_n$, where $F_n$ is defined by the recurrence relation:\n",
    "\n",
    "$$ F_n = F_{n-1} + F_{n-2}$$\n",
    "\n",
    "with initial conditions of:\n",
    "\n",
    "$$ F_1 = 1,  F_2 = 1$$"
   ]
  },
  {
   "cell_type": "markdown",
   "metadata": {},
   "source": [
    "#### Q 1.1.2\n",
    "What's the complexity of your implementation?"
   ]
  },
  {
   "cell_type": "markdown",
   "metadata": {},
   "source": [
    "#### Q 1.1.3\n",
    "Consider an alternative implementation to compute Fibonacci number $F_n$ and write a new function, `fibonacci2(n)`."
   ]
  },
  {
   "cell_type": "markdown",
   "metadata": {},
   "source": [
    "#### Q 1.1.4\n",
    "What's the complexity of your implementation?"
   ]
  },
  {
   "cell_type": "markdown",
   "metadata": {},
   "source": [
    "#### Q 1.1.5\n",
    "What are some examples of optimizations that could improve computational performance?\n"
   ]
  },
  {
   "cell_type": "markdown",
   "metadata": {},
   "source": [
    "### Q 1.2: Linked List\n",
    "![ll img](https://upload.wikimedia.org/wikipedia/commons/thumb/6/6d/Singly-linked-list.svg/500px-Singly-linked-list.svg.png)"
   ]
  },
  {
   "cell_type": "markdown",
   "metadata": {},
   "source": [
    "#### Q 1.2.1\n",
    "Consider a [singly linked list](https://en.wikipedia.org/wiki/Linked_list), $L$. Write a function `is_palindrome(L)` that detects if $L$ is a [palindrome](https://en.wikipedia.org/wiki/Palindrome), by returning a bool, `True` or `False`.\n"
   ]
  },
  {
   "cell_type": "code",
   "execution_count": 9,
   "metadata": {},
   "outputs": [],
   "source": [
    "# This function will tell us whether or not a singly linked list contains a palindrome, or not, by returning True or False\n",
    "def is_palindrome(L):\n",
    "    \n",
    "    # Traverse the list to find it's center using 2 variables\n",
    "    ptr_a = L.head\n",
    "    ptr_b = L.head\n",
    "    \n",
    "    # ptr_a is going to travel half as fast as ptr_b, in order to find the center\n",
    "    # we are going to continue until the node after ptr_b is null, or, ptr_b is null itself\n",
    "    while ptr_b is not None and ptr_b.next_node is not None:\n",
    "        ptr_a = ptr_a.next_node   # ptr a takes a step\n",
    "        ptr_b = ptr_b.next_node   # ptr b takes 2 steps\n",
    "        \n",
    "    # if ptr_b is not null, then ptr_a is sitting in the center of an odd-length singly linked list\n",
    "    # in this case, we are going to move ptr_a to the next node\n",
    "    if ptr_b is not None:\n",
    "        ptr_a = ptr_a.next_node\n",
    "        \n",
    "    # now, since we can't move backward along the list, we need to switch around the back half of the \n",
    "    # list so that it will match the front half (if it's a palindrome, of course) \n",
    "    # we'll use reverse_ptr to do this\n",
    "    reverse_ptr = ptr_a\n",
    "    \n",
    "    # we'll also store the current index's data, so we can replace the last element of the list with it later\n",
    "    last_element = reverse_ptr.data\n",
    "    \n",
    "    while reverse_ptr.next_node is not None:\n",
    "        reverse_ptr.data = reverse_ptr.next_node.data    # take the next node's data\n",
    "        reverse_ptr = reverse_ptr.next_node              # move it to the next node\n",
    "    \n",
    "    # store the last element\n",
    "    reverse_ptr.data = last_element\n",
    "    \n",
    "    # now we compare the first half of the list with the second half\n",
    "    # if they match, this list is (was...) holding a palindrome!\n",
    "    ptr_b = L.head\n",
    "    \n",
    "    while ptr_a is not None:\n",
    "        if ptr_a.data is not ptr_b.data:\n",
    "            return False\n",
    "        ptr_a = ptr_a.next_node\n",
    "        \n",
    "    # we made it to the end of the list without a mismatch. This list was holding a palindrome.\n",
    "    # (I'm assuming you don't mind if the back half isn't switched back to its original state)\n",
    "    return True"
   ]
  },
  {
   "cell_type": "markdown",
   "metadata": {},
   "source": [
    "#### Q 1.2.2\n",
    "What is the complexity of your implementation?\n",
    "\n",
    "In terms of time:\n",
    "\n",
    "    The contribution to the time complexity from ptr_a:\n",
    "        \n",
    "        One pass on each node in the list -- n\n",
    "        \n",
    "    The contribution from ptr_b:\n",
    "        \n",
    "        One pass on every other element in the list -- n/2 \n",
    "        \n",
    "        One pass on the first half of the list -- n/2\n",
    "        \n",
    "    The contribution from reverse_ptr:\n",
    "     \n",
    "        One pass on the back half of the list -- n/2\n",
    "        \n",
    "    This implementation contains a negligible amount of constant work that also occurs \n",
    "    alongside the traversals. -- C\n",
    "        \n",
    "    The cumulative contribution of the traversals (and constant work, C):\n",
    "    \n",
    "        n + 3(n/2) + C = (5/2)n + C\n",
    "    \n",
    "    This means that the time complexity of this implementation is O(n).\n",
    "    \n",
    "In terms of space:\n",
    "\n",
    "    All computations were conducted within the scope of the original list, aside from one additional storage of \n",
    "    data.\n",
    "    \n",
    "    This means that the space complexity of this implementation is O(1)."
   ]
  },
  {
   "cell_type": "markdown",
   "metadata": {},
   "source": [
    "#### Q 1.2.3\n",
    "Consider an alternative implementation to detect if L is a palindrome and write a new function, `is_palindrome2(L)`."
   ]
  },
  {
   "cell_type": "code",
   "execution_count": null,
   "metadata": {},
   "outputs": [],
   "source": [
    "# This function will tell us whether or not a singly linked list contains a palindrome, or not, by returning True or False\n",
    "def is_palindrome2(L):\n",
    "    \n",
    "    # Traverse the list full list and store it backward in a different list (a Python list, more like an array really)\n",
    "    backward_list = list()\n",
    "    ptr_a = L.head\n",
    "    \n",
    "    while ptr_a is not None:\n",
    "        backward_list.insert(0, ptr_a.data)   # store the data at the beginning of the list\n",
    "        ptr_a = ptr_a.next_node               # go to the next node\n",
    "        \n",
    "    # now we'll traverse the list again, and compare it to the corresponding elements of our reversed list\n",
    "    ptr_a = L.head\n",
    "    \n",
    "    for i in range(len(backward_list)):\n",
    "        if ptr_a.data is not backward_list[i]:\n",
    "            return False\n",
    "        ptr_a = ptr_a.next_node\n",
    "    \n",
    "    # we made it to the end of the list without a mismatch. This list is holding a palindrome!\n",
    "    return True"
   ]
  },
  {
   "cell_type": "markdown",
   "metadata": {},
   "source": [
    "#### Q 1.2.4\n",
    "What's the complexity of this implementation?\n",
    "\n",
    "In terms of time:\n",
    "\n",
    "    The contribution from ptr_a:\n",
    "        \n",
    "        Two full passes down the length of the list -- n\n",
    "        \n",
    "    The contribution from traversing the backward list:\n",
    "    \n",
    "        One full pass -- n\n",
    "        \n",
    "    This implementation also contains a negligible amount of constant work that occurs \n",
    "    alongside the traversals. -- C\n",
    "    \n",
    "    The cumulative time contribution of these factors:\n",
    "    \n",
    "        n + n + C = 2n + C\n",
    "        \n",
    "    This means that the time complexity of this implementation is also O(n).\n",
    "    \n",
    "In terms of space:\n",
    "\n",
    "    This implementation creates a copy of the same list that goes into it, requiring n elements of extra space.\n",
    "    \n",
    "    This means that the space complexity of this implementation is O(n).\n",
    "        "
   ]
  },
  {
   "cell_type": "markdown",
   "metadata": {},
   "source": [
    "#### Q 1.2.5 \n",
    "What are some examples of optimizations that could improve computational performance?\n",
    "\n",
    "\n",
    "First and foremost, using a doubly linked list would make this problem a computational breeze, although it would have a slightly higher memory cost. Double linkage would allow us to avoid having to reverse the elements of the array. Using any other language-specific specialized class or data structure which is similar to a list would also greatly improve performance.\n",
    "\n",
    "We could re-use the pointer objects (as in use ptr_b instead of creating reverse_ptr), but that would come at the cost of readability. The miniscule computational gain is negligible next to what using separate names does for readability. This is also mostly unique to interpreted languages, like Python, as this sort of thing wouldn't have any effect at runtime for a compiled language.\n",
    "\n",
    "Multi-threading is also a good option in this case. After splitting the list into two parts, you could then divide up the halves into however many equal partitions you wanted, based on your thread pool, then have each thread run the comparisons concurrently, and aggregate their results.\n"
   ]
  },
  {
   "cell_type": "markdown",
   "metadata": {},
   "source": [
    "## 2. Prob + Stats"
   ]
  },
  {
   "cell_type": "markdown",
   "metadata": {},
   "source": [
    "### Q 2.1: Finding $\\pi$ in a random uniform?\n",
    "![pi pie img](http://core2.staticworld.net/images/article/2016/03/pi-day-intro-100649273-carousel.idge.jpeg)\n",
    "\n",
    "Given a uniform random generator $[0,1)$ (e.g., use your language's standard libary to generate random value), write a a function `compute_pi` to compute [$\\pi$](https://en.wikipedia.org/wiki/Pi)."
   ]
  },
  {
   "cell_type": "markdown",
   "metadata": {},
   "source": [
    "### Q 2.2: Making a 6-side die roll a 7?\n",
    "\n",
    "![reno die image](http://thumbs.ebaystatic.com/images/g/IQ8AAOSwvzRXyagD/s-l225.jpg)\n",
    "\n",
    "Using a single 6-side die, how can you generate a random number between 1 - 7?"
   ]
  },
  {
   "cell_type": "markdown",
   "metadata": {},
   "source": [
    "### Q 2.3: Is normality uniform?\n",
    "\n",
    "![normal and uniform distributions](https://qph.ec.quoracdn.net/main-qimg-f6ed71ed1d0059760fb63db384dcbcca-c)\n",
    "\n",
    "Given draws from a normal distribution with known parameters, how can you simulate draws from a uniform distribution?"
   ]
  },
  {
   "cell_type": "markdown",
   "metadata": {},
   "source": [
    "### Q 2.4: Should you pay or should you go?\n",
    "\n",
    "![coin flip](https://lh5.ggpht.com/iwD6MnHeHVAXNBgrO7r4N9MQxxYi6wT9vb0Mqu905zTnNlBciONAA98BqafyjzC06Q=w300)\n",
    "\n",
    "Let’s say we play a game where I keep flipping a coin until I get heads. If the first time I get heads is on the nth coin, then I pay you $2^{(n-1)}$ US dollars. How much would you pay me to play this game? Explain."
   ]
  },
  {
   "cell_type": "markdown",
   "metadata": {},
   "source": [
    "### Q 2.5: Uber vs. Lyft\n",
    "\n",
    "![uber vs lyft](http://usiaffinity.typepad.com/.a/6a01347fc1cb08970c01bb0876bcbe970d-pi)\n",
    "\n",
    "You request 2 UberX’s and 3 Lyfts. If the time that each takes to reach you is IID, what is the probability that all the Lyfts arrive first? What is the probability that all the UberX’s arrive first?\n",
    "\n",
    "----------------------------------------------------------------------------------------------------------------\n",
    "\n",
    "Explicit way:\n",
    "\n",
    "Considering our assumption that each of these drivers are independent and equally likely to arrive first, we can assert that the chances that the first driver who arrives will be an UberX, are 2/5. \n",
    "\n",
    "For the next driver, we can assert that the probability that the next driver who arrives will be an UberX is 1/4. One thing to consider is that the UberX that arrived first is out of the running for picking us up on the second round (as in no replacement). \n",
    "\n",
    "Now we can combine these probabilities by multiplying them together, which yields 1/10.\n",
    "\n",
    "This means that there is a 1/10 chance that the first two cars to show up will be the 2 requested UberX drivers.\n",
    "\n",
    "We can do the same thing to find the probability that all of the Lyft drivers show up first:\n",
    "\n",
    "P(1st car Lyft) = 3/5\n",
    "P(2nd car Lyft) = 1/2\n",
    "P(3rd car Lyft) = 1/3\n",
    "\n",
    "P(All Lyft's first) = (3/5) * (1/2) * (1/3) = 1/10\n",
    "\n",
    "Simpler way:\n",
    "\n",
    "This problem illustrates combination. Any given car arriving has no bearing on the next car, and each car is equally likely to arrive before the others. Being that there are 5 cars, and we are looking for a unique and specific set of cars to arrive, the probability is (for Lyft and UberX, respectively), 1 in 5 choose 3, or 1 in 5 choose 2, which are both equal to 1 in 10."
   ]
  }
 ],
 "metadata": {
  "kernelspec": {
   "display_name": "Python 3",
   "language": "python",
   "name": "python3"
  },
  "language_info": {
   "codemirror_mode": {
    "name": "ipython",
    "version": 3
   },
   "file_extension": ".py",
   "mimetype": "text/x-python",
   "name": "python",
   "nbconvert_exporter": "python",
   "pygments_lexer": "ipython3",
   "version": "3.5.3"
  }
 },
 "nbformat": 4,
 "nbformat_minor": 1
}
